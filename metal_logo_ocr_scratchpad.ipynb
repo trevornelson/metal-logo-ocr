{
  "nbformat": 4,
  "nbformat_minor": 0,
  "metadata": {
    "colab": {
      "provenance": [],
      "authorship_tag": "ABX9TyO8XTP8er0br6O6AYRQ1bRQ",
      "include_colab_link": true
    },
    "kernelspec": {
      "name": "python3",
      "display_name": "Python 3"
    },
    "language_info": {
      "name": "python"
    }
  },
  "cells": [
    {
      "cell_type": "markdown",
      "metadata": {
        "id": "view-in-github",
        "colab_type": "text"
      },
      "source": [
        "<a href=\"https://colab.research.google.com/github/trevornelson/metal-logo-ocr/blob/main/metal_logo_ocr_scratchpad.ipynb\" target=\"_parent\"><img src=\"https://colab.research.google.com/assets/colab-badge.svg\" alt=\"Open In Colab\"/></a>"
      ]
    },
    {
      "cell_type": "code",
      "execution_count": 3,
      "metadata": {
        "colab": {
          "base_uri": "https://localhost:8080/"
        },
        "id": "_CZNI5IsEJeo",
        "outputId": "1ee02f61-1963-4e17-bdf3-6a909ff6cc5b"
      },
      "outputs": [
        {
          "output_type": "stream",
          "name": "stdout",
          "text": [
            "Requirement already satisfied: transformers in /usr/local/lib/python3.10/dist-packages (4.30.2)\n",
            "Requirement already satisfied: filelock in /usr/local/lib/python3.10/dist-packages (from transformers) (3.12.2)\n",
            "Requirement already satisfied: huggingface-hub<1.0,>=0.14.1 in /usr/local/lib/python3.10/dist-packages (from transformers) (0.16.4)\n",
            "Requirement already satisfied: numpy>=1.17 in /usr/local/lib/python3.10/dist-packages (from transformers) (1.22.4)\n",
            "Requirement already satisfied: packaging>=20.0 in /usr/local/lib/python3.10/dist-packages (from transformers) (23.1)\n",
            "Requirement already satisfied: pyyaml>=5.1 in /usr/local/lib/python3.10/dist-packages (from transformers) (6.0)\n",
            "Requirement already satisfied: regex!=2019.12.17 in /usr/local/lib/python3.10/dist-packages (from transformers) (2022.10.31)\n",
            "Requirement already satisfied: requests in /usr/local/lib/python3.10/dist-packages (from transformers) (2.27.1)\n",
            "Requirement already satisfied: tokenizers!=0.11.3,<0.14,>=0.11.1 in /usr/local/lib/python3.10/dist-packages (from transformers) (0.13.3)\n",
            "Requirement already satisfied: safetensors>=0.3.1 in /usr/local/lib/python3.10/dist-packages (from transformers) (0.3.1)\n",
            "Requirement already satisfied: tqdm>=4.27 in /usr/local/lib/python3.10/dist-packages (from transformers) (4.65.0)\n",
            "Requirement already satisfied: fsspec in /usr/local/lib/python3.10/dist-packages (from huggingface-hub<1.0,>=0.14.1->transformers) (2023.6.0)\n",
            "Requirement already satisfied: typing-extensions>=3.7.4.3 in /usr/local/lib/python3.10/dist-packages (from huggingface-hub<1.0,>=0.14.1->transformers) (4.6.3)\n",
            "Requirement already satisfied: urllib3<1.27,>=1.21.1 in /usr/local/lib/python3.10/dist-packages (from requests->transformers) (1.26.16)\n",
            "Requirement already satisfied: certifi>=2017.4.17 in /usr/local/lib/python3.10/dist-packages (from requests->transformers) (2023.5.7)\n",
            "Requirement already satisfied: charset-normalizer~=2.0.0 in /usr/local/lib/python3.10/dist-packages (from requests->transformers) (2.0.12)\n",
            "Requirement already satisfied: idna<4,>=2.5 in /usr/local/lib/python3.10/dist-packages (from requests->transformers) (3.4)\n"
          ]
        }
      ],
      "source": [
        "!pip install transformers\n",
        "\n",
        "from transformers import TrOCRProcessor, VisionEncoderDecoderModel\n",
        "import requests\n",
        "from PIL import Image"
      ]
    },
    {
      "cell_type": "code",
      "source": [
        "processor = TrOCRProcessor.from_pretrained(\"microsoft/trocr-base-handwritten\")\n",
        "model = VisionEncoderDecoderModel.from_pretrained(\"microsoft/trocr-base-handwritten\")\n",
        "\n",
        "url = \"https://1000logos.net/wp-content/uploads/2020/03/Cannibal-Corpse-Logo-1988.jpg\"\n",
        "image = Image.open(requests.get(url, stream=True).raw).convert(\"RGB\")\n",
        "\n",
        "pixel_values = processor(image, return_tensors=\"pt\").pixel_values\n",
        "generated_ids = model.generate(pixel_values)\n",
        "\n",
        "generated_text = processor.batch_decode(generated_ids, skip_special_tokens=True)[0]"
      ],
      "metadata": {
        "colab": {
          "base_uri": "https://localhost:8080/"
        },
        "id": "ECkv8To_GvkR",
        "outputId": "7f6ead8a-ff1f-40d8-f849-77fccdac3353"
      },
      "execution_count": 8,
      "outputs": [
        {
          "output_type": "stream",
          "name": "stderr",
          "text": [
            "Could not find image processor class in the image processor config or the model config. Loading based on pattern matching with the model's feature extractor configuration.\n",
            "Some weights of VisionEncoderDecoderModel were not initialized from the model checkpoint at microsoft/trocr-base-handwritten and are newly initialized: ['encoder.pooler.dense.weight', 'encoder.pooler.dense.bias']\n",
            "You should probably TRAIN this model on a down-stream task to be able to use it for predictions and inference.\n"
          ]
        }
      ]
    },
    {
      "cell_type": "code",
      "source": [
        "print(pixel_values[0][2][150])"
      ],
      "metadata": {
        "colab": {
          "base_uri": "https://localhost:8080/"
        },
        "id": "vsQf6kkJHYvh",
        "outputId": "396a6901-1739-425d-f86b-6c6f60f25497"
      },
      "execution_count": 14,
      "outputs": [
        {
          "output_type": "stream",
          "name": "stdout",
          "text": [
            "tensor([ 1.0000,  1.0000,  1.0000,  1.0000,  1.0000,  1.0000,  1.0000,  1.0000,\n",
            "         1.0000,  1.0000,  1.0000,  1.0000,  1.0000,  1.0000,  1.0000,  1.0000,\n",
            "         1.0000,  1.0000,  1.0000,  1.0000,  1.0000,  1.0000,  1.0000,  1.0000,\n",
            "         1.0000,  1.0000,  1.0000,  1.0000,  1.0000,  1.0000,  1.0000,  1.0000,\n",
            "         1.0000,  1.0000,  1.0000,  1.0000,  1.0000,  1.0000,  1.0000,  1.0000,\n",
            "         1.0000,  1.0000,  1.0000,  1.0000,  1.0000,  1.0000,  1.0000,  1.0000,\n",
            "         1.0000,  1.0000,  0.9843,  0.9922,  0.0431, -0.5451,  0.7961,  0.9922,\n",
            "         0.9765,  0.9686,  0.9686,  0.8745, -0.2627, -0.9529, -0.9451, -0.9686,\n",
            "        -0.9294, -0.9373, -0.9686, -0.9608, -0.8510,  0.3176,  0.9529,  0.9608,\n",
            "         0.9765,  1.0000,  1.0000,  1.0000,  1.0000,  1.0000,  1.0000,  1.0000,\n",
            "         1.0000,  1.0000,  1.0000,  1.0000,  1.0000,  1.0000,  1.0000,  1.0000,\n",
            "         1.0000,  1.0000,  1.0000,  1.0000,  1.0000,  1.0000,  1.0000,  1.0000,\n",
            "         0.9922,  1.0000,  0.9922,  0.9922,  0.3882, -0.6863,  0.6471,  0.9765,\n",
            "         1.0000,  1.0000,  1.0000,  1.0000,  0.9843,  0.9608,  0.7804, -0.3333,\n",
            "        -0.9059, -0.9294, -0.9686, -0.9608, -0.9216, -0.8510,  0.2941,  0.9608,\n",
            "         0.9922,  0.9765,  1.0000,  1.0000,  1.0000,  1.0000,  1.0000,  1.0000,\n",
            "         1.0000,  1.0000,  0.9922,  0.9843,  0.5608, -0.7569, -0.9529, -0.7882,\n",
            "         0.4902,  0.9686,  0.9765,  0.9765,  0.9922,  0.3490, -0.8824, -0.9294,\n",
            "        -0.9294, -0.6471,  0.7020,  0.9608,  0.9686,  0.9765,  1.0000,  0.9922,\n",
            "         0.9922,  1.0000,  1.0000,  0.9843,  0.9843,  0.3725, -0.8510, -0.9373,\n",
            "        -0.9451, -0.9216, -0.9608, -0.9216, -0.9373, -0.9451, -0.9373, -0.9529,\n",
            "        -0.2549,  0.8902,  0.9843,  0.9765,  0.5922, -0.8275, -0.9608, -0.9294,\n",
            "        -0.9529, -0.9686, -0.9686, -0.9451, -0.8118,  0.4275,  0.9765,  1.0000,\n",
            "         0.9922,  0.9843,  1.0000,  0.9843,  0.9922,  1.0000,  1.0000,  0.9843,\n",
            "         0.9294,  0.2549, -0.8353, -0.9216, -0.9529, -0.0118,  0.9686,  0.9686,\n",
            "         0.9922,  0.9686,  0.9843,  1.0000,  1.0000,  0.9922,  0.9922,  0.3490,\n",
            "        -0.8275, -0.9451, -0.9216, -0.9686, -0.9686, -0.9608, -0.9608, -0.9373,\n",
            "        -0.9529, -0.9451, -0.9686, -0.8510,  0.3098,  0.9765,  0.9686,  0.9922,\n",
            "         0.9922,  1.0000,  1.0000,  0.9765,  0.9843,  0.9765,  0.9765,  0.9922,\n",
            "         1.0000,  1.0000,  0.9922,  0.9922,  0.9922,  0.9686,  0.2627, -0.7961,\n",
            "        -0.9451, -0.9608, -0.9216, -0.9608, -0.9451, -0.8824,  0.0588,  0.8980,\n",
            "         0.6235, -0.2392, -0.8667, -0.9608, -0.9608, -0.9451, -0.9765, -0.9529,\n",
            "        -0.9451, -0.9686, -0.9373, -0.9294, -0.9686, -0.9608, -0.9529, -0.9373,\n",
            "        -0.9529, -0.9373, -0.2627,  0.8902,  0.9843,  0.6941, -0.1922, -0.8667,\n",
            "        -0.9294, -0.9451, -0.9373, -0.9686, -0.9137,  0.1765,  0.9294,  0.9686,\n",
            "         0.9686,  0.9686,  0.9608,  0.3020, -0.8039, -0.9451, -0.9216, -0.9529,\n",
            "        -0.9059, -0.8902,  0.1686,  0.9686,  0.9529,  0.9922,  1.0000,  1.0000,\n",
            "         0.8824, -0.1922, -0.9373, -0.9373, -0.9294, -0.8980, -0.9294, -0.9608,\n",
            "        -0.9373, -0.9059, -0.8824,  0.2549,  0.9608,  0.9686,  0.9765,  0.9922,\n",
            "         1.0000,  1.0000,  1.0000,  1.0000,  1.0000,  1.0000,  1.0000,  1.0000,\n",
            "         1.0000,  1.0000,  1.0000,  1.0000,  1.0000,  1.0000,  1.0000,  1.0000,\n",
            "         1.0000,  1.0000,  1.0000,  1.0000,  1.0000,  1.0000,  1.0000,  1.0000,\n",
            "         1.0000,  1.0000,  1.0000,  1.0000,  1.0000,  1.0000,  1.0000,  1.0000,\n",
            "         1.0000,  1.0000,  1.0000,  1.0000,  1.0000,  1.0000,  1.0000,  1.0000,\n",
            "         1.0000,  1.0000,  1.0000,  1.0000,  1.0000,  1.0000,  1.0000,  1.0000,\n",
            "         1.0000,  1.0000,  1.0000,  1.0000,  1.0000,  1.0000,  1.0000,  1.0000,\n",
            "         1.0000,  1.0000,  1.0000,  1.0000,  1.0000,  1.0000,  1.0000,  1.0000,\n",
            "         1.0000,  1.0000,  1.0000,  1.0000,  1.0000,  1.0000,  1.0000,  1.0000])\n"
          ]
        }
      ]
    },
    {
      "cell_type": "markdown",
      "source": [
        "It seems like the processor is correctly transforming the image data into a tensor. The model is returning garbage though, likely because I need to train the head on metal logos now. It seems like the handwriting pre-trained model isn't able to work with handwriting-like logos. Another possibility is that it may require a single line of text. Cannibal Corpse's logo is two rows- I may need to split it during pre-processing."
      ],
      "metadata": {
        "id": "fiDbJI9EIqAO"
      }
    }
  ]
}